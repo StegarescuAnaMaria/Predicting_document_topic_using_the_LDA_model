{
  "nbformat": 4,
  "nbformat_minor": 0,
  "metadata": {
    "colab": {
      "name": "Project1_PP.ipynb",
      "provenance": [],
      "collapsed_sections": [],
      "machine_shape": "hm"
    },
    "kernelspec": {
      "name": "python3",
      "display_name": "Python 3"
    },
    "language_info": {
      "name": "python"
    },
    "accelerator": "GPU"
  },
  "cells": [
    {
      "cell_type": "code",
      "metadata": {
        "colab": {
          "base_uri": "https://localhost:8080/"
        },
        "id": "yz4MvE1UDv58",
        "outputId": "a37394ae-cc8f-4f93-9ea1-607b3475a9d6"
      },
      "source": [
        "from google.colab import drive\n",
        "drive.mount('/content/gdrive')"
      ],
      "execution_count": 334,
      "outputs": [
        {
          "output_type": "stream",
          "name": "stdout",
          "text": [
            "Drive already mounted at /content/gdrive; to attempt to forcibly remount, call drive.mount(\"/content/gdrive\", force_remount=True).\n"
          ]
        }
      ]
    },
    {
      "cell_type": "markdown",
      "source": [
        "**Task 1:** The LDA model"
      ],
      "metadata": {
        "id": "sp_LipqzfPqK"
      }
    },
    {
      "cell_type": "markdown",
      "source": [
        "Imports"
      ],
      "metadata": {
        "id": "rNr0cDS3fURg"
      }
    },
    {
      "cell_type": "code",
      "metadata": {
        "colab": {
          "base_uri": "https://localhost:8080/"
        },
        "id": "YbFm575Lrxsg",
        "outputId": "4b389f2f-290b-4a79-9f91-1dd748b4d13f"
      },
      "source": [
        "!pip install pymc\n",
        "import pymc as pm\n",
        "import numpy as np\n",
        "import string\n",
        "import nltk\n",
        "nltk.download('stopwords')\n",
        "nltk.download('punkt')\n",
        "nltk.download('wordnet')\n",
        "from nltk.corpus import stopwords\n",
        "from nltk.tokenize import word_tokenize\n",
        "from collections import Counter\n",
        "import matplotlib.pyplot as plt\n",
        "import arviz as az"
      ],
      "execution_count": 335,
      "outputs": [
        {
          "output_type": "stream",
          "name": "stdout",
          "text": [
            "Requirement already satisfied: pymc in /usr/local/lib/python3.7/dist-packages (2.3.8)\n",
            "[nltk_data] Downloading package stopwords to /root/nltk_data...\n",
            "[nltk_data]   Package stopwords is already up-to-date!\n",
            "[nltk_data] Downloading package punkt to /root/nltk_data...\n",
            "[nltk_data]   Package punkt is already up-to-date!\n",
            "[nltk_data] Downloading package wordnet to /root/nltk_data...\n",
            "[nltk_data]   Package wordnet is already up-to-date!\n"
          ]
        }
      ]
    },
    {
      "cell_type": "markdown",
      "source": [
        "Reading from files"
      ],
      "metadata": {
        "id": "h_8d-ExffXRf"
      }
    },
    {
      "cell_type": "markdown",
      "source": [
        "The topics were chosen to cover narrow domains, as to increase the probability of finding more shared words between the documents of the same topic. The documents, also, are large, but are reduced to the most common n words for the same exact reason."
      ],
      "metadata": {
        "id": "mMnUB7cr8lqu"
      }
    },
    {
      "cell_type": "code",
      "metadata": {
        "id": "2Obz7dVekAfj"
      },
      "source": [
        "folder=\"/content/gdrive/My Drive/Project1_PP\"\n",
        "\n",
        "topic0 = open(folder+\"/epilepsy.txt\",\"r\").readlines()\n",
        "topic1 = open(folder+\"/neural_networks.txt\",\"r\").readlines()\n",
        "topic2 = open(folder+\"/stars.txt\",\"r\").readlines()\n",
        "\n",
        "topics = [topic0, topic1, topic2]\n",
        "\n",
        "#The true labels\n",
        "labels = [0, 0, 0, 0, 0, 1, 1, 1, 1, 1, 2, 2, 2, 2, 2]"
      ],
      "execution_count": 336,
      "outputs": []
    },
    {
      "cell_type": "markdown",
      "source": [
        "Text processing"
      ],
      "metadata": {
        "id": "tWV4-bljfje4"
      }
    },
    {
      "cell_type": "code",
      "metadata": {
        "id": "eFeXSNi3CCdr"
      },
      "source": [
        "stop_words = stopwords.words('english')\n",
        "from nltk.stem import PorterStemmer\n",
        "ps = PorterStemmer()"
      ],
      "execution_count": 337,
      "outputs": []
    },
    {
      "cell_type": "code",
      "metadata": {
        "id": "OosEx2wUl-yl"
      },
      "source": [
        "documents = []\n",
        "for topic in topics:\n",
        "  topic = list(filter(lambda a: a != '\\n', topic))\n",
        "  for document in topic:\n",
        "    doc = document[:-1]   #getting rid of \\n at the end\n",
        "    doc = doc.lower()\n",
        "    tokens = word_tokenize(doc)\n",
        "\n",
        "    #tokens, without punctuation and stop words, and with stemming\n",
        "    tokens_new = [ps.stem(x) for x in tokens if (x not in string.punctuation and x not in stop_words and ps.stem(x).isalpha())]      \n",
        "    documents.append(tokens_new)"
      ],
      "execution_count": 338,
      "outputs": []
    },
    {
      "cell_type": "markdown",
      "source": [
        "Keeping the n most common words from each document in an attempt to keep the shared elements between the documents of the same topic, and at the same time rushing the learning process"
      ],
      "metadata": {
        "id": "Swyt8Mdjf09z"
      }
    },
    {
      "cell_type": "code",
      "source": [
        "documents_trun = []\n",
        "n_most_common = 10\n",
        "for document in documents:\n",
        "  d = Counter(document)\n",
        "  if len(d.keys()) <= n_most_common:\n",
        "    documents_trun.append(list(d.keys()))\n",
        "  else:\n",
        "    documents_trun.append([word for word, nr in d.most_common(n_most_common)]) "
      ],
      "metadata": {
        "id": "5AtwXWdqZtkn"
      },
      "execution_count": 339,
      "outputs": []
    },
    {
      "cell_type": "markdown",
      "source": [
        "Building the dictionary"
      ],
      "metadata": {
        "id": "jrGYtoatgUCu"
      }
    },
    {
      "cell_type": "code",
      "metadata": {
        "id": "Ze0tHmgDCz2T"
      },
      "source": [
        "dictionary = {}\n",
        "for document in documents_trun:\n",
        "  for word in document:\n",
        "    if word not in dictionary.keys():\n",
        "      dictionary[word] = len(dictionary.keys())"
      ],
      "execution_count": 340,
      "outputs": []
    },
    {
      "cell_type": "markdown",
      "source": [
        "Transforming the documents into numerical sequences"
      ],
      "metadata": {
        "id": "RbQUpv2Ogbkn"
      }
    },
    {
      "cell_type": "code",
      "metadata": {
        "id": "qu16SQm9Dn2l"
      },
      "source": [
        "doc_numerical = []\n",
        "for document in documents_trun:\n",
        "  doc_numerical.append([dictionary[x] for x in document])"
      ],
      "execution_count": 341,
      "outputs": []
    },
    {
      "cell_type": "markdown",
      "source": [
        "Training the model"
      ],
      "metadata": {
        "id": "Uetoa2NCgvU7"
      }
    },
    {
      "cell_type": "code",
      "metadata": {
        "id": "HvkmMFm0ggjY",
        "colab": {
          "base_uri": "https://localhost:8080/"
        },
        "outputId": "a7e887f6-dd4d-48c5-deb5-233dc0f902d4"
      },
      "source": [
        "#number of topics  \n",
        "K = 3  \n",
        "   \n",
        "#number of words\n",
        "V = len(dictionary.keys())  \n",
        "   \n",
        "#number of documents  \n",
        "D = len(doc_numerical)  \n",
        "   \n",
        "#array([1, 1, 1, ..., 1]) K times  \n",
        "alpha = np.ones(K) \n",
        "   \n",
        "#array([1, 1, 1, ..., 1]) V times  \n",
        "beta = np.ones(V)  \n",
        "\n",
        "n_iter = 5000\n",
        "burn = 0\n",
        "   \n",
        "#array containing the information about doc length in our collection\n",
        "Nd = [len(doc) for doc in doc_numerical]  \n",
        "   \n",
        "   \n",
        " ######################## LDA model ##################################  \n",
        "   \n",
        "#topic distribution per-document   \n",
        "aux_1 = pm.Container([pm.Dirichlet(\"ptheta_%s\"%i, theta=alpha) for i in range(D)])\n",
        "theta = pm.Container([pm.CompletedDirichlet(\"theta_%s\" % i, aux_1[i]) for i in range(D)])\n",
        "   \n",
        "#word distribution per-topic      \n",
        "aux_2 = pm.Container([pm.Dirichlet(\"pphi_%s\" % j, theta=beta) for j in range(K)])\n",
        "phi = pm.Container([pm.CompletedDirichlet(\"phi_%s\" % j, aux_2[j]) for j in range(K)])\n",
        "\n",
        " \n",
        "z = pm.Container([pm.Categorical(\"z_%i\" % d,  \n",
        "                                  p = theta[d],  \n",
        "                                  size = Nd[d],  \n",
        "                                  value = np.random.randint(K, size=Nd[d]))   #results [0, K)\n",
        "                   for d in range(D)])  \n",
        "   \n",
        "#word generated from phi, given a topic z  \n",
        "w = pm.Container([pm.Categorical(\"w_%i_%i\" % (d,i),  \n",
        "                                  p = pm.Lambda(\"phi_z_%i_%i\" % (d,i),  \n",
        "                                                lambda z=z[d][i], phi=phi : phi[z]),\n",
        "                                  value=doc_numerical[d],  \n",
        "                                  observed=True)  \n",
        "                   for d in range(D) for i in range(Nd[d])])  \n",
        "   \n",
        " ####################################################################  \n",
        "   \n",
        "model = pm.Model([aux_1, theta, aux_2, phi, z, w])  \n",
        "mcmc = pm.MCMC(model)  \n",
        "mcmc.sample(iter=n_iter, burn=burn)  \n",
        "   \n",
        "\n",
        "z_last = []\n",
        "for d in range(D):\n",
        "  z_last.append(mcmc.trace('z_%i'%d)[n_iter-1-burn])\n",
        "\n",
        "print(\"\\n\")  \n",
        "print(\"Value of z: \")\n",
        "for d in range(D):\n",
        "  print(z_last[d])\n",
        "\n",
        "Topic = pm.Container([max(Counter(z_last[d]), key=Counter(z_last[d]).get) for d in range(D)])\n",
        "print('\\n')\n",
        "print(\"Predicted topics: {}\".format(Topic))"
      ],
      "execution_count": 342,
      "outputs": [
        {
          "output_type": "stream",
          "name": "stderr",
          "text": [
            "/usr/local/lib/python3.7/dist-packages/pymc/MCMC.py:81: UserWarning: Instantiating a Model object directly is deprecated. We recommend passing variables directly to the Model subclass.\n",
            "  warnings.warn(message)\n"
          ]
        },
        {
          "output_type": "stream",
          "name": "stdout",
          "text": [
            " [-----------------100%-----------------] 5000 of 5000 complete in 34.2 sec\n",
            "\n",
            "Value of z: \n",
            "[1 1 1 1 1 1 1 1 1 1]\n",
            "[0 0 0 0 0 0 0 0 0 0]\n",
            "[0 0 0 0 0 0 0 0 0 0]\n",
            "[0 0 0 0 0 0 0 0 0 0]\n",
            "[1 1 1 1 1 1 1 1 1 1]\n",
            "[1 1 1 1 1 1 1 1 1 1]\n",
            "[2 2 2 2 2 2 2 2 2 2]\n",
            "[2 2 2 2 2 2 2 2 2 2]\n",
            "[1 1 1 1 1 1 1 1 1 1]\n",
            "[0 0 0 0 0 0 0 0 0 0]\n",
            "[2 2 2 2 2 2 2 2 2 2]\n",
            "[0 0 0 0 0 0 0 0 0 0]\n",
            "[1 1 1 1 1 1 1 1 1 1]\n",
            "[2 2 2 2 2 2 2 2 2 2]\n",
            "[2 2 2 2 2 2 2 2 2 2]\n",
            "\n",
            "\n",
            "Predicted topics: [1, 0, 0, 0, 1, 1, 2, 2, 1, 0, 2, 0, 1, 2, 2]\n"
          ]
        }
      ]
    },
    {
      "cell_type": "markdown",
      "source": [
        "**Plotting traces for all iterations, for the model variables**"
      ],
      "metadata": {
        "id": "LS-rUAibues8"
      }
    },
    {
      "cell_type": "markdown",
      "source": [
        "The \"error\" will be the difference between the variable at iteration i and iteration i-1. The more the model learns, the smaller the difference will get with each iteration"
      ],
      "metadata": {
        "id": "j220oAPA6xdt"
      }
    },
    {
      "cell_type": "code",
      "source": [
        "theta_last = np.array([mcmc.trace(\"theta_%s\" % j)[0] for j in range(D)])\n",
        "phi_last = np.array([mcmc.trace(\"phi_%s\" % j)[0] for j in range(K)])\n",
        "z_last = np.array([mcmc.trace('z_%i'%d)[0] for d in range(D)])\n",
        "\n",
        "theta_err = []\n",
        "phi_err = []\n",
        "z_err = []\n",
        "\n",
        "for i in range(1, n_iter-burn):\n",
        "  theta_new = np.array([mcmc.trace(\"theta_%s\" % j)[i] for j in range(D)])\n",
        "  phi_new = np.array([mcmc.trace(\"phi_%s\" % j)[i] for j in range(K)])\n",
        "  z_new = np.array([mcmc.trace('z_%i'%d)[i] for d in range(D)])\n",
        "\n",
        "  theta_err.append(np.mean(abs(theta_new-theta_last)))\n",
        "  phi_err.append(np.mean(abs(phi_new-phi_last)))\n",
        "  z_err.append(np.mean(abs(z_new-z_last)))\n",
        "\n",
        "  theta_last = theta_new\n",
        "  phi_last = phi_new\n",
        "  z_last = z_new"
      ],
      "metadata": {
        "id": "GQCCvi4htZXi"
      },
      "execution_count": 343,
      "outputs": []
    },
    {
      "cell_type": "code",
      "source": [
        "plt.figure()\n",
        "\n",
        "\n",
        "plt.plot(theta_err)\n",
        "plt.xlabel(\"Iteration #\")\n",
        "plt.ylabel(\"Error\")\n",
        "plt.title(\"Convergence of theta\")\n",
        "plt.show()\n",
        "\n",
        "print(\"\\n\")\n",
        "\n",
        "plt.plot(phi_err)\n",
        "plt.xlabel(\"Iteration #\")\n",
        "plt.ylabel(\"Error\")\n",
        "plt.title(\"Convergence of phi\")\n",
        "plt.show()\n",
        "\n",
        "print(\"\\n\")\n",
        "\n",
        "plt.plot(z_err)\n",
        "plt.xlabel(\"Iteration #\")\n",
        "plt.ylabel(\"Error\")\n",
        "plt.title(\"Convergence of z\")\n",
        "plt.show()"
      ],
      "metadata": {
        "colab": {
          "base_uri": "https://localhost:8080/",
          "height": 920
        },
        "id": "xsQTO81Tzbtq",
        "outputId": "1421d2d6-19f7-40c8-dd85-0abf55ed5d60"
      },
      "execution_count": 344,
      "outputs": [
        {
          "output_type": "display_data",
          "data": {
            "image/png": "[encoded data removed]",
            "text/plain": [
              "<Figure size 432x288 with 1 Axes>"
            ]
          },
          "metadata": {
            "needs_background": "light"
          }
        },
        {
          "output_type": "stream",
          "name": "stdout",
          "text": [
            "\n",
            "\n"
          ]
        },
        {
          "output_type": "display_data",
          "data": {
            "image/png": "[encoded data removed]",
            "text/plain": [
              "<Figure size 432x288 with 1 Axes>"
            ]
          },
          "metadata": {
            "needs_background": "light"
          }
        },
        {
          "output_type": "stream",
          "name": "stdout",
          "text": [
            "\n",
            "\n"
          ]
        },
        {
          "output_type": "display_data",
          "data": {
            "image/png": "[encoded data removed]",
            "text/plain": [
              "<Figure size 432x288 with 1 Axes>"
            ]
          },
          "metadata": {
            "needs_background": "light"
          }
        }
      ]
    },
    {
      "cell_type": "markdown",
      "source": [
        "\"We use the posterior topic proportions \"theta\"\n",
        "and posterior topic assignments \"z\" to visualize the underlying topic decomposition of a document. Plotting the posterior topic proportions gives a\n",
        "sense of which topics the document is “about.” These vectors can also be\n",
        "used to group articles that exhibit certain topics with high proportions.\"\n",
        "\n",
        "source: http://www.cs.columbia.edu/~blei/papers/BleiLafferty2009.pdf"
      ],
      "metadata": {
        "id": "uUrAajmWG-CX"
      }
    },
    {
      "cell_type": "code",
      "source": [
        "theta = np.array([mcmc.trace(\"theta_%s\" % j)[n_iter-1-burn] for j in range(D)])\n",
        "z = np.array([mcmc.trace('z_%i'%d)[i] for d in range(D)])\n",
        "\n",
        "az.plot_posterior(theta)\n",
        "print(\"\\n \\n\")\n",
        "az.plot_posterior(z)"
      ],
      "metadata": {
        "colab": {
          "base_uri": "https://localhost:8080/",
          "height": 763
        },
        "id": "RP7HF0llFWHi",
        "outputId": "e84f2bbd-a9e7-49f6-9eeb-e3483d790564"
      },
      "execution_count": 345,
      "outputs": [
        {
          "output_type": "stream",
          "name": "stdout",
          "text": [
            "\n",
            " \n",
            "\n"
          ]
        },
        {
          "output_type": "stream",
          "name": "stderr",
          "text": [
            "/usr/local/lib/python3.7/dist-packages/arviz/data/base.py:221: UserWarning: More chains (15) than draws (1). Passed array should have shape (chains, draws, *shape)\n",
            "  UserWarning,\n",
            "/usr/local/lib/python3.7/dist-packages/arviz/data/base.py:221: UserWarning: More chains (15) than draws (10). Passed array should have shape (chains, draws, *shape)\n",
            "  UserWarning,\n"
          ]
        },
        {
          "output_type": "execute_result",
          "data": {
            "text/plain": [
              "<matplotlib.axes._subplots.AxesSubplot at 0x7ff35b9b5750>"
            ]
          },
          "metadata": {},
          "execution_count": 345
        },
        {
          "output_type": "display_data",
          "data": {
            "image/png": "[encoded data removed]",
            "text/plain": [
              "<Figure size 1490.4x331.2 with 3 Axes>"
            ]
          },
          "metadata": {
            "needs_background": "light"
          }
        },
        {
          "output_type": "display_data",
          "data": {
            "image/png": "[encoded data removed]",
            "text/plain": [
              "<Figure size 432x288 with 1 Axes>"
            ]
          },
          "metadata": {
            "needs_background": "light"
          }
        }
      ]
    },
    {
      "cell_type": "markdown",
      "source": [
        "Calculating the accuracy, method 1: by counting how many predictions are equal to the true labels"
      ],
      "metadata": {
        "id": "Hjn0YmKrhsj5"
      }
    },
    {
      "cell_type": "code",
      "source": [
        "acc1 = sum([Topic[i] == labels[i] for i in range(len(labels))])/len(labels)\n",
        "print(\"Accuracy 1: {}\".format(acc1))"
      ],
      "metadata": {
        "colab": {
          "base_uri": "https://localhost:8080/"
        },
        "id": "uKg4-CECfRQM",
        "outputId": "d320e95c-6dc2-44ae-e2ee-4ab8d43acd30"
      },
      "execution_count": 346,
      "outputs": [
        {
          "output_type": "stream",
          "name": "stdout",
          "text": [
            "Accuracy 1: 0.5333333333333333\n"
          ]
        }
      ]
    },
    {
      "cell_type": "markdown",
      "source": [
        "Calculating the accuracy, method 2: by counting the predicted probabilities that certain documents belong to the correct topic"
      ],
      "metadata": {
        "id": "n6dEsh2fh_1t"
      }
    },
    {
      "cell_type": "code",
      "source": [
        "accuracies = []\n",
        "\n",
        "for d in range(D):\n",
        "  accuracies.append(Counter(z_last[d])[labels[d]]/len(z_last[d]))\n",
        "\n",
        "acc2 = np.mean(accuracies)\n",
        "print(\"Accuracies for each document: {}\".format(accuracies))\n",
        "print(\"Mean accuracy: {}\".format(acc2))"
      ],
      "metadata": {
        "colab": {
          "base_uri": "https://localhost:8080/"
        },
        "id": "-ajLl_CFCBeD",
        "outputId": "d9e6465c-832b-44a1-f0f5-bf2566ec8a88"
      },
      "execution_count": 347,
      "outputs": [
        {
          "output_type": "stream",
          "name": "stdout",
          "text": [
            "Accuracies for each document: [0.0, 1.0, 1.0, 1.0, 0.0, 1.0, 0.0, 0.0, 1.0, 0.0, 1.0, 0.0, 0.0, 1.0, 1.0]\n",
            "Mean accuracy: 0.5333333333333333\n"
          ]
        }
      ]
    },
    {
      "cell_type": "markdown",
      "source": [
        "**Task 2:** "
      ],
      "metadata": {
        "id": "Z9KoLh6jl1C4"
      }
    },
    {
      "cell_type": "markdown",
      "source": [
        "**Topic-based similarity:** It is better to keep as many words as possible from documents in order to accurately determine the topic-based similarity between documents, because the most frequent n, where n is a small number, words in each document might not share any same elements"
      ],
      "metadata": {
        "id": "_wpchr72jB4d"
      }
    },
    {
      "cell_type": "code",
      "source": [
        "#Lets find the iteration where the z[i] does not have constant values (z[i] is a constant list of same topic for all \n",
        "#words when it reaches a certain number of iterations)\n",
        "\n",
        "for i in range(n_iter-1-burn, 0, -1):\n",
        "  z_sim = []\n",
        "  for d in range(D):\n",
        "    z_aux = mcmc.trace('z_%i'%d)[i]\n",
        "    count = Counter(z_aux)\n",
        "    if len(count.keys()) != K:                       #we want to find a z[i] where all K topics are present\n",
        "      z_sim.append(z_aux)\n",
        "      break\n",
        "    else:\n",
        "      z_sim.append(z_aux)\n",
        "\n",
        "\n",
        "if len(z_sim)!=D:\n",
        "  for i in range(n_iter-1-burn, -1, -1):\n",
        "    z_sim = []\n",
        "    for d in range(D):\n",
        "      z_aux = mcmc.trace('z_%i'%d)[i]\n",
        "      count = Counter(z_aux)\n",
        "      if len(count.keys()) != K-1:                       #we want to find a z[i] where K-1 topics are present\n",
        "        z_sim.append(z_aux)\n",
        "        break\n",
        "      else:\n",
        "        z_sim.append(z_aux)\n",
        "\n",
        "#If we can't find a z where the topics in each document vary enough\n",
        "if len(z_sim)!=D:\n",
        "  for d in range(D):\n",
        "    z_sim.append(mcmc.trace('z_%i'%d)[1])\n",
        "\n",
        "for i in range(len(z_sim)):\n",
        "  print(z_sim[i])      "
      ],
      "metadata": {
        "id": "pgEWSTKZmNBt",
        "colab": {
          "base_uri": "https://localhost:8080/"
        },
        "outputId": "1bb11008-6639-4fce-d3bd-026429859e96"
      },
      "execution_count": 348,
      "outputs": [
        {
          "output_type": "stream",
          "name": "stdout",
          "text": [
            "[2 1 2 0 2 2 1 0 1 0]\n",
            "[0 1 0 0 2 1 1 2 2 1]\n",
            "[2 0 0 2 0 1 2 1 0 2]\n",
            "[0 0 1 2 2 1 0 0 2 1]\n",
            "[2 2 0 0 2 2 0 1 0 1]\n",
            "[2 1 1 0 2 1 2 0 1 2]\n",
            "[2 1 1 0 1 0 2 2 1 2]\n",
            "[2 1 1 0 0 2 1 0 1 1]\n",
            "[1 1 1 0 1 1 2 0 0 1]\n",
            "[0 1 0 0 2 0 0 2 2 0]\n",
            "[0 1 0 0 1 2 0 1 0 0]\n",
            "[2 1 2 1 1 1 2 0 1 0]\n",
            "[1 2 2 2 0 0 1 0 1 0]\n",
            "[0 0 2 2 2 1 2 0 1 0]\n",
            "[1 2 2 1 0 1 2 0 0 1]\n"
          ]
        }
      ]
    },
    {
      "cell_type": "code",
      "source": [
        "#Lets find the similarity between the documents:\n",
        "\n",
        "#number of documents for each topic\n",
        "L = 5\n",
        "\n",
        "#Pick 2 documents for calculating their similarity\n",
        "#We will pick randomly\n",
        "ids = np.random.randint(0, L*K, 2)\n",
        "\n",
        "count1 = Counter(z_sim[ids[0]])\n",
        "print()\n",
        "count2 = Counter(z_sim[ids[1]])\n",
        "\n",
        "total = 0\n",
        "for k in range(K):\n",
        "  minimum = min(count1[k], count2[k])\n",
        "  total += minimum                                               #add how many words of same topic there are in common\n",
        "\n",
        "similarity = total/n_most_common\n",
        "\n",
        "print(\"Document ids: {}, {}\".format(ids[0], ids[1]))\n",
        "print(\"Documents: {}, {}\".format(z_sim[ids[0]], z_sim[ids[1]]))\n",
        "print(\"Similarity: {}\".format(similarity))\n",
        "\n",
        "#similarity = 1 means very similar, but not identical!"
      ],
      "metadata": {
        "colab": {
          "base_uri": "https://localhost:8080/"
        },
        "id": "vcI5zMxRFnZq",
        "outputId": "4edba7be-c5d5-4f75-caec-4cb015067d27"
      },
      "execution_count": 349,
      "outputs": [
        {
          "output_type": "stream",
          "name": "stdout",
          "text": [
            "\n",
            "Document ids: 8, 0\n",
            "Documents: [1 1 1 0 1 1 2 0 0 1], [2 1 2 0 2 2 1 0 1 0]\n",
            "Similarity: 0.7\n"
          ]
        }
      ]
    },
    {
      "cell_type": "markdown",
      "source": [
        "Finding the topic-based similarity according to http://www.cs.columbia.edu/~blei/papers/BleiLafferty2009.pdf:"
      ],
      "metadata": {
        "id": "dnuk8oIDBaRs"
      }
    },
    {
      "cell_type": "code",
      "source": [
        "theta = np.array([mcmc.trace(\"theta_%s\" % j)[n_iter-1-burn] for j in range(D)])\n",
        "similarity = 0\n",
        "\n",
        "#theta is of size (D, 1, K)\n",
        "\n",
        "for k in range(K):\n",
        "  similarity += np.square(theta[ids[0]][0][k] - theta[ids[1]][0][k]) \n",
        "\n",
        "print(\"Similarity: {}\".format(similarity))"
      ],
      "metadata": {
        "colab": {
          "base_uri": "https://localhost:8080/"
        },
        "id": "LMDWfMCcBf0L",
        "outputId": "46c80251-e46b-4868-c56b-15d98e791b6b"
      },
      "execution_count": 350,
      "outputs": [
        {
          "output_type": "stream",
          "name": "stdout",
          "text": [
            "Similarity: 0.0277649441296294\n"
          ]
        }
      ]
    },
    {
      "cell_type": "markdown",
      "source": [
        "**Finding the topic of a new document** "
      ],
      "metadata": {
        "id": "btN5OMX9WfGC"
      }
    },
    {
      "cell_type": "markdown",
      "source": [
        "Text processing"
      ],
      "metadata": {
        "id": "NeJcLth1kV2Q"
      }
    },
    {
      "cell_type": "code",
      "source": [
        "new_doc = \"A star is an astronomical object consisting of a luminous spheroid of plasma held together by its own gravity. The nearest star to Earth is the Sun. Many other stars are visible to the naked eye at night, but due to their immense distance from Earth they appear as fixed points of light in the sky. The most prominent stars are grouped into constellations and asterisms, and many of the brightest stars have proper names. Astronomers have assembled star catalogues that identify the known stars and provide standardized stellar designations. The observable universe contains an estimated 1022 to 1024 stars, but most are invisible to the naked eye from Earth, including all individual stars outside our galaxy, the Milky Way.\""
      ],
      "metadata": {
        "id": "q2Etk6IwbVnR"
      },
      "execution_count": 351,
      "outputs": []
    },
    {
      "cell_type": "markdown",
      "source": [
        "Source: https://en.wikipedia.org/wiki/Star"
      ],
      "metadata": {
        "id": "78ZmPTBOBA31"
      }
    },
    {
      "cell_type": "code",
      "source": [
        "doc = new_doc.lower()\n",
        "tokens = word_tokenize(doc)\n",
        "tokens_new = [ps.stem(x) for x in tokens if (x not in string.punctuation and x not in stop_words and ps.stem(x).isalpha())]     "
      ],
      "metadata": {
        "id": "LF6xirEUb6vE"
      },
      "execution_count": 352,
      "outputs": []
    },
    {
      "cell_type": "markdown",
      "source": [
        "Transforming the document into a numerical sequence"
      ],
      "metadata": {
        "id": "IXFQXRD6klmt"
      }
    },
    {
      "cell_type": "code",
      "source": [
        "new_doc_numerical = [dictionary[x] for x in tokens_new if x in dictionary.keys()]"
      ],
      "metadata": {
        "id": "fBTq0yPecoHr"
      },
      "execution_count": 353,
      "outputs": []
    },
    {
      "cell_type": "markdown",
      "source": [
        "Keeping the n most common words"
      ],
      "metadata": {
        "id": "YLdc4dFEkgmu"
      }
    },
    {
      "cell_type": "code",
      "source": [
        "d = Counter(new_doc_numerical)\n",
        "if len(d.keys()) <= n_most_common:\n",
        "  new_doc_numerical = list(d.keys())\n",
        "else:\n",
        "  new_doc_numerical = [word for word, nr in d.most_common(n_most_common)]"
      ],
      "metadata": {
        "id": "faptafB7ikLp"
      },
      "execution_count": 354,
      "outputs": []
    },
    {
      "cell_type": "markdown",
      "source": [
        "P(t/X) = P(X/t)*P(t)/P(X)\n",
        "\n",
        "P(Xi/t) = phi \n"
      ],
      "metadata": {
        "id": "9TFm0Z93BAKH"
      }
    },
    {
      "cell_type": "code",
      "source": [
        "phi = pm.Container([mcmc.trace(\"phi_%s\" % j)[n_iter-1-burn] for j in range(K)])\n",
        "#print(phi)\n",
        "eps = 10e-5\n",
        "\n",
        "#Phi has size (K, 1, V)\n",
        "for i in range(K):\n",
        "  for word in new_doc_numerical:\n",
        "    phi[i][0][word] += eps\n",
        "\n",
        "phi_log = np.zeros(K)\n",
        "\n",
        "for i in range(K):\n",
        "  for word in new_doc_numerical:\n",
        "    phi_log[i] += np.log(phi[i][0][word])\n",
        "\n",
        "\n",
        "product = np.zeros(K)\n",
        "for i in range(K):\n",
        "  product[i] = np.exp(phi_log[i])\n",
        "\n",
        "print(\"P(X/t) = {}\".format(product))\n",
        "\n",
        "probability = np.zeros(K)\n",
        "\n",
        "for i in range(K):\n",
        "  probability[i] = (product[i] * 1/K)/(1/D)\n",
        "\n",
        "\n",
        "topic_new_doc = np.argmax(probability)\n",
        "print(\"Predicted topic: %i\" % topic_new_doc)"
      ],
      "metadata": {
        "colab": {
          "base_uri": "https://localhost:8080/"
        },
        "id": "GVl9oUWdbUrV",
        "outputId": "6c2228f1-9981-4ef6-dc0a-bc8b35b5b19d"
      },
      "execution_count": 355,
      "outputs": [
        {
          "output_type": "stream",
          "name": "stdout",
          "text": [
            "P(X/t) = [2.54944267e-23 7.10063291e-26 1.29964399e-23]\n",
            "Predicted topic: 0\n"
          ]
        }
      ]
    }
  ]
}